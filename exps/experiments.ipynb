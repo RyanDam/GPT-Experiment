{
 "cells": [
  {
   "cell_type": "code",
   "execution_count": 4,
   "metadata": {},
   "outputs": [],
   "source": [
    "import random\n",
    "import torch\n",
    "from torch import nn\n",
    "from torch.nn import functional as F\n",
    "\n",
    "torch.manual_seed(1337)\n",
    "\n",
    "batch_size = 64\n",
    "chunk_size = 128 # how wide in time\n",
    "corpus_size = 65\n",
    "emb_size = 384\n",
    "learning_rate = 4e-3\n",
    "train_iter = 100000\n",
    "val_iter = 500\n",
    "device = \"mps\"\n",
    "head_size = 16\n",
    "num_head = 6\n",
    "num_block = 6\n",
    "dropout = 0.2"
   ]
  },
  {
   "cell_type": "code",
   "execution_count": 1,
   "metadata": {},
   "outputs": [],
   "source": [
    "data_file = \"dataset/shakespeare.txt\"\n",
    "\n",
    "with open(data_file, 'r') as f:\n",
    "    data_raw = f.read()"
   ]
  },
  {
   "cell_type": "code",
   "execution_count": 5,
   "metadata": {},
   "outputs": [
    {
     "data": {
      "text/plain": [
       "(\"\\n !$&',-.3:;?ABCDEFGHIJKLMNOPQRSTUVWXYZabcdefghijklmnopqrstuvwxyz\", 65)"
      ]
     },
     "execution_count": 5,
     "metadata": {},
     "output_type": "execute_result"
    }
   ],
   "source": [
    "corpus = sorted(list(set(data_raw)))\n",
    "\"\".join(corpus), len(corpus)"
   ]
  },
  {
   "cell_type": "code",
   "execution_count": 11,
   "metadata": {},
   "outputs": [],
   "source": [
    "ctoi = {c: idx for idx, c in enumerate(corpus)}\n",
    "itoc = {idx: c for idx, c in enumerate(corpus)}\n",
    "encode = lambda s: [ctoi[c] for c in s]\n",
    "decode = lambda tokens: \"\".join([itoc[i] for i in tokens])"
   ]
  },
  {
   "cell_type": "code",
   "execution_count": 12,
   "metadata": {},
   "outputs": [
    {
     "data": {
      "text/plain": [
       "('First Citi', [18, 47, 56, 57, 58, 1, 15, 47, 58, 47], 'First Citi')"
      ]
     },
     "execution_count": 12,
     "metadata": {},
     "output_type": "execute_result"
    }
   ],
   "source": [
    "data_raw[:10], encode(data_raw[:10]), decode(encode(data_raw[:10]))"
   ]
  },
  {
   "cell_type": "code",
   "execution_count": 13,
   "metadata": {},
   "outputs": [],
   "source": [
    "data_token = encode(data_raw)"
   ]
  },
  {
   "cell_type": "code",
   "execution_count": 33,
   "metadata": {},
   "outputs": [
    {
     "data": {
      "text/plain": [
       "(1003854, 111539)"
      ]
     },
     "execution_count": 33,
     "metadata": {},
     "output_type": "execute_result"
    }
   ],
   "source": [
    "data_length = len(data_token)\n",
    "data_token_train = torch.tensor(data_token[:int(0.9*data_length)], dtype=torch.long)\n",
    "data_token_val = torch.tensor(data_token[-int(0.1*data_length):], dtype=torch.long)\n",
    "len(data_token_train), len(data_token_val)"
   ]
  },
  {
   "cell_type": "code",
   "execution_count": 34,
   "metadata": {},
   "outputs": [],
   "source": [
    "batch_size = 4\n",
    "chunk_size = 8\n",
    "\n",
    "def get_batch(split):\n",
    "    sample_x = []\n",
    "    sample_y = []\n",
    "    data_split = data_token_train if split == \"train\" else data_token_val\n",
    "    max_samples = len(data_split)\n",
    "    for _ in range(batch_size):\n",
    "        idx = random.randint(0, max_samples - chunk_size - 1)\n",
    "        x = data_split[idx:idx+chunk_size]\n",
    "        y = data_split[idx+1:idx+chunk_size+1]\n",
    "        sample_x.append(x)\n",
    "        sample_y.append(y)\n",
    "\n",
    "    return torch.stack(sample_x), torch.stack(sample_y)\n",
    "    "
   ]
  },
  {
   "cell_type": "code",
   "execution_count": 35,
   "metadata": {},
   "outputs": [
    {
     "name": "stdout",
     "output_type": "stream",
     "text": [
      "x:\n",
      " tensor([[52, 42,  1, 57, 46, 39, 51, 43],\n",
      "        [58, 43, 56,  1, 57, 43, 56, 60],\n",
      "        [ 8,  0, 13, 61, 39, 63,  1, 61],\n",
      "        [52, 43,  1, 46, 53, 52, 53, 59]])\n",
      "y:\n",
      " tensor([[42,  1, 57, 46, 39, 51, 43,  1],\n",
      "        [43, 56,  1, 57, 43, 56, 60, 47],\n",
      "        [ 0, 13, 61, 39, 63,  1, 61, 47],\n",
      "        [43,  1, 46, 53, 52, 53, 59, 56]])\n"
     ]
    }
   ],
   "source": [
    "sample_x, sample_y = get_batch(\"train\")\n",
    "print(\"x:\\n\", sample_x)\n",
    "print(\"y:\\n\", sample_y)"
   ]
  },
  {
   "cell_type": "code",
   "execution_count": 60,
   "metadata": {},
   "outputs": [
    {
     "name": "stdout",
     "output_type": "stream",
     "text": [
      "sample_x torch.Size([4, 8])\n",
      "sample_y torch.Size([4, 8])\n",
      "logit torch.Size([4, 8, 65])\n",
      "loss tensor(4.5782, grad_fn=<NllLossBackward0>)\n"
     ]
    },
    {
     "data": {
      "text/plain": [
       "\"nd shameh!QcF$-xNNb!Q,jIcJwsCddvFDdna\\nHkTcDCsnaQEFPtc&YKK:;cMz'ZL!eV-kFhNbe$UUftHOiSC'HG hrYviQEYaPRw?fo eRU\""
      ]
     },
     "execution_count": 60,
     "metadata": {},
     "output_type": "execute_result"
    }
   ],
   "source": [
    "class LanguageModel(nn.Module):\n",
    "\n",
    "    def __init__(self, token_size):\n",
    "        super().__init__()\n",
    "        self.token_embedding_table = nn.Embedding(token_size, token_size)\n",
    "\n",
    "    def forward(self, x, target=None): # B, T\n",
    "\n",
    "        logits = self.token_embedding_table(x) # B, T, C\n",
    "\n",
    "        if target is None:\n",
    "            loss = None\n",
    "        else:\n",
    "            B, T, C = logits.shape\n",
    "            logits_c = logits.view(B*T, C)\n",
    "            target_c = target.view(B*T)\n",
    "            loss = F.cross_entropy(logits_c, target_c)\n",
    "\n",
    "        return logits, loss\n",
    "    \n",
    "    def generate(self, x, max_new_token=500):\n",
    "\n",
    "        for _ in range(max_new_token):\n",
    "            logits, _ = self(x)\n",
    "\n",
    "            logits = logits[:, -1, :] # focus on last prediction, B, C\n",
    "            logits = F.softmax(logits, dim=-1) # get probabilities, B, C\n",
    "            next_logit = torch.multinomial(logits, 1) # B, 1\n",
    "            \n",
    "            x = torch.cat([x, next_logit], dim=1) # B, T + 1\n",
    "\n",
    "        return x\n",
    "\n",
    "m = LanguageModel(len(corpus))\n",
    "logit, loss = m(sample_x, sample_y)\n",
    "print(\"sample_x\", sample_x.shape)\n",
    "print(\"sample_y\", sample_y.shape)\n",
    "print(\"logit\", logit.shape)\n",
    "print(\"loss\", loss)\n",
    "\n",
    "decode(m.generate(sample_x, 100)[0].tolist())"
   ]
  },
  {
   "cell_type": "code",
   "execution_count": 61,
   "metadata": {},
   "outputs": [
    {
     "name": "stderr",
     "output_type": "stream",
     "text": [
      "/Users/ryan/.pyenv/versions/3.9.13/envs/env/lib/python3.9/site-packages/tqdm/auto.py:22: TqdmWarning: IProgress not found. Please update jupyter and ipywidgets. See https://ipywidgets.readthedocs.io/en/stable/user_install.html\n",
      "  from .autonotebook import tqdm as notebook_tqdm\n"
     ]
    }
   ],
   "source": [
    "optimizer = torch.optim.Adam(m.parameters(), lr=1e-3)"
   ]
  },
  {
   "cell_type": "code",
   "execution_count": 86,
   "metadata": {},
   "outputs": [
    {
     "name": "stdout",
     "output_type": "stream",
     "text": [
      "tensor(2.8222, grad_fn=<NllLossBackward0>)\n"
     ]
    }
   ],
   "source": [
    "for iter in range(1000):\n",
    "\n",
    "    sample_x, sample_y = get_batch(\"train\")\n",
    "\n",
    "    logit, loss = m(sample_x, sample_y)\n",
    "\n",
    "    optimizer.zero_grad()\n",
    "    loss.backward()\n",
    "    optimizer.step()\n",
    "\n",
    "print(loss)"
   ]
  },
  {
   "cell_type": "code",
   "execution_count": 98,
   "metadata": {},
   "outputs": [
    {
     "name": "stdout",
     "output_type": "stream",
     "text": [
      "\n",
      "D tonoucoWh!IND wfor's.\n",
      "\n",
      "Toprat hit he VNSimideCLvilleroftht Ehadw salim,\n",
      "as m blee\n",
      "DHofaive t meLLkithkilitth BdV3e, ty paim3CoVbt\n",
      "qus p ser hizhd,\n",
      "OAs, t\n",
      "NRPmoup Wbe gemmineet m fr m?zDjmy, n s f ace th h.':\n",
      "\n",
      "m burs hr thanoufurd:\n",
      "KSYHI mshanbe ddeancaHGxyist, ourlawr peaveUe byouptix., w d men y atakn, so hip afogller-CLAJBOUCLoee the yne fung w'd YV!PDCarit acilar.\n",
      "KWleay-htealy!orth oy l t lad: ar ; yofas hy.\n",
      "\n",
      "TouRR om.\n",
      "\n",
      "\n",
      "Bozbeme I:\n",
      "Mq, mengme,\n",
      "Br linghanh paverr bS:\n",
      "He LWe he.Yg ow'fos do?\n"
     ]
    }
   ],
   "source": [
    "print(decode(m.generate(torch.zeros(1, 1, dtype=torch.long), max_new_token=500)[0].tolist()))"
   ]
  },
  {
   "cell_type": "code",
   "execution_count": 127,
   "metadata": {},
   "outputs": [
    {
     "name": "stdout",
     "output_type": "stream",
     "text": [
      "x\n",
      " tensor([[[0.5729, 0.3842],\n",
      "         [0.5366, 0.1753],\n",
      "         [0.8483, 0.0556],\n",
      "         [0.2992, 0.4036],\n",
      "         [0.0181, 0.0498],\n",
      "         [0.9534, 0.5142],\n",
      "         [0.1559, 0.0534],\n",
      "         [0.9929, 0.2999]],\n",
      "\n",
      "        [[0.2849, 0.7844],\n",
      "         [0.7858, 0.6876],\n",
      "         [0.1753, 0.2913],\n",
      "         [0.5687, 0.3679],\n",
      "         [0.9547, 0.7983],\n",
      "         [0.7168, 0.8815],\n",
      "         [0.3543, 0.6020],\n",
      "         [0.1930, 0.6659]],\n",
      "\n",
      "        [[0.6014, 0.2786],\n",
      "         [0.7314, 0.2053],\n",
      "         [0.7686, 0.4646],\n",
      "         [0.2266, 0.9750],\n",
      "         [0.6254, 0.1673],\n",
      "         [0.3122, 0.8484],\n",
      "         [0.6277, 0.6240],\n",
      "         [0.5854, 0.4490]],\n",
      "\n",
      "        [[0.7968, 0.9988],\n",
      "         [0.6650, 0.4451],\n",
      "         [0.0373, 0.2391],\n",
      "         [0.3098, 0.4886],\n",
      "         [0.6401, 0.8738],\n",
      "         [0.2617, 0.8151],\n",
      "         [0.4653, 0.8703],\n",
      "         [0.9102, 0.0410]]])\n",
      "wei\n",
      " tensor([[1.0000, 0.0000, 0.0000, 0.0000, 0.0000, 0.0000, 0.0000, 0.0000],\n",
      "        [0.5000, 0.5000, 0.0000, 0.0000, 0.0000, 0.0000, 0.0000, 0.0000],\n",
      "        [0.3333, 0.3333, 0.3333, 0.0000, 0.0000, 0.0000, 0.0000, 0.0000],\n",
      "        [0.2500, 0.2500, 0.2500, 0.2500, 0.0000, 0.0000, 0.0000, 0.0000],\n",
      "        [0.2000, 0.2000, 0.2000, 0.2000, 0.2000, 0.0000, 0.0000, 0.0000],\n",
      "        [0.1667, 0.1667, 0.1667, 0.1667, 0.1667, 0.1667, 0.0000, 0.0000],\n",
      "        [0.1429, 0.1429, 0.1429, 0.1429, 0.1429, 0.1429, 0.1429, 0.0000],\n",
      "        [0.1250, 0.1250, 0.1250, 0.1250, 0.1250, 0.1250, 0.1250, 0.1250]])\n",
      "xbow\n",
      " tensor([[[0.5729, 0.3842],\n",
      "         [0.5548, 0.2798],\n",
      "         [0.6526, 0.2050],\n",
      "         [0.5643, 0.2547],\n",
      "         [0.4550, 0.2137],\n",
      "         [0.5381, 0.2638],\n",
      "         [0.4835, 0.2337],\n",
      "         [0.5472, 0.2420]],\n",
      "\n",
      "        [[0.2849, 0.7844],\n",
      "         [0.5353, 0.7360],\n",
      "         [0.4153, 0.5878],\n",
      "         [0.4537, 0.5328],\n",
      "         [0.5539, 0.5859],\n",
      "         [0.5810, 0.6352],\n",
      "         [0.5486, 0.6304],\n",
      "         [0.5042, 0.6349]],\n",
      "\n",
      "        [[0.6014, 0.2786],\n",
      "         [0.6664, 0.2420],\n",
      "         [0.7004, 0.3162],\n",
      "         [0.5820, 0.4809],\n",
      "         [0.5907, 0.4181],\n",
      "         [0.5443, 0.4899],\n",
      "         [0.5562, 0.5090],\n",
      "         [0.5598, 0.5015]],\n",
      "\n",
      "        [[0.7968, 0.9988],\n",
      "         [0.7309, 0.7220],\n",
      "         [0.4997, 0.5610],\n",
      "         [0.4522, 0.5429],\n",
      "         [0.4898, 0.6091],\n",
      "         [0.4518, 0.6434],\n",
      "         [0.4537, 0.6758],\n",
      "         [0.5108, 0.5965]]]) torch.Size([4, 8, 2])\n",
      "torch.Size([8, 8]) torch.Size([4, 8, 2]) torch.Size([4, 8, 2])\n"
     ]
    }
   ],
   "source": [
    "# attention using softmax\n",
    "B, T, C = batch_size, chunk_size, 2\n",
    "\n",
    "x = torch.rand(B, T, C)\n",
    "print(\"x\\n\", x) # B, T, C\n",
    "\n",
    "tril = torch.tril(torch.ones(T, T))\n",
    "# print(\"tril\", tril)\n",
    "\n",
    "wei = torch.zeros(T, T)\n",
    "# print(\"wei\", wei)\n",
    "\n",
    "wei = wei.masked_fill(tril == 0., float(\"-inf\"))\n",
    "# print(\"wei\", wei)\n",
    "\n",
    "wei = F.softmax(wei, dim=-1)\n",
    "print(\"wei\\n\", wei)\n",
    "\n",
    "\n",
    "xbow = wei @ x  # (B, T, T) @ (B, T, C) ----> (B, T, C)\n",
    "print(\"xbow\\n\", xbow, xbow.shape)\n",
    "print(wei.shape, x.shape, xbow.shape)"
   ]
  },
  {
   "cell_type": "code",
   "execution_count": null,
   "metadata": {},
   "outputs": [],
   "source": [
    "# self attention\n",
    "channel_size = 12\n",
    "head_size = 16\n",
    "B, T, C = batch_size, chunk_size, channel_size\n",
    "\n",
    "x = torch.randint((B, T, C)).float()\n",
    "\n",
    "query = nn.Linear(C, head_size, bias=False)\n",
    "key = nn.Linear(C, head_size, bias=False)\n",
    "value = nn.Linear(C, head_size, bias=False)\n",
    "\n",
    "q = query(x) # B, T, 16\n",
    "k = key(x)   # B, T, 16\n",
    "v = value(x) # B, T, 16\n",
    "\n",
    "wei = q @ k.transpose(-2, -1) # (B, T, 16) x (B, 16, T) -> B, T, T\n",
    "# kq = F.softmax(kq, dim=-1)\n",
    "\n",
    "tril = torch.tril(torch.ones(T, T))\n",
    "wei = wei.masked_fill(tril == 0, float(\"-inf\"))\n",
    "wei = F.softmax(wei, dim=-1)\n",
    "\n",
    "out = wei @ v # (B, T, T) x (B, T, 16) -> (B, T, 16)"
   ]
  },
  {
   "cell_type": "code",
   "execution_count": 5,
   "metadata": {},
   "outputs": [],
   "source": [
    "position_embedding_table = nn.Embedding(chunk_size, emb_size)"
   ]
  },
  {
   "cell_type": "code",
   "execution_count": 6,
   "metadata": {},
   "outputs": [],
   "source": [
    "pos_emb = position_embedding_table(torch.arange(chunk_size)) # (T,C)"
   ]
  },
  {
   "cell_type": "code",
   "execution_count": 8,
   "metadata": {},
   "outputs": [
    {
     "data": {
      "text/plain": [
       "torch.Size([128, 384])"
      ]
     },
     "execution_count": 8,
     "metadata": {},
     "output_type": "execute_result"
    }
   ],
   "source": [
    "pos_emb.shape"
   ]
  }
 ],
 "metadata": {
  "kernelspec": {
   "display_name": "env",
   "language": "python",
   "name": "python3"
  },
  "language_info": {
   "codemirror_mode": {
    "name": "ipython",
    "version": 3
   },
   "file_extension": ".py",
   "mimetype": "text/x-python",
   "name": "python",
   "nbconvert_exporter": "python",
   "pygments_lexer": "ipython3",
   "version": "3.9.13"
  }
 },
 "nbformat": 4,
 "nbformat_minor": 2
}
