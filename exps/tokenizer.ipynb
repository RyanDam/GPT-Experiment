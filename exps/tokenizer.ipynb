{
 "cells": [
  {
   "cell_type": "code",
   "execution_count": 67,
   "metadata": {},
   "outputs": [],
   "source": [
    "import matplotlib.pyplot as plt"
   ]
  },
  {
   "cell_type": "code",
   "execution_count": 1,
   "metadata": {},
   "outputs": [],
   "source": [
    "data_file = \"../dataset/shakespeare.txt\"\n",
    "\n",
    "with open(data_file, 'r') as f:\n",
    "    data_raw = f.read()"
   ]
  },
  {
   "cell_type": "code",
   "execution_count": 24,
   "metadata": {},
   "outputs": [],
   "source": [
    "raw_bytes = data_raw.encode('utf-8')\n",
    "raw_bytes = list(map(lambda x: int(x), raw_bytes))"
   ]
  },
  {
   "cell_type": "code",
   "execution_count": 47,
   "metadata": {},
   "outputs": [
    {
     "name": "stdout",
     "output_type": "stream",
     "text": [
      "1115394 1115394 0\n"
     ]
    }
   ],
   "source": [
    "print(len(data_raw), len(raw_bytes), len(data_raw)-len(raw_bytes))"
   ]
  },
  {
   "cell_type": "code",
   "execution_count": 41,
   "metadata": {},
   "outputs": [],
   "source": [
    "def get_stats(data):\n",
    "    stats = {}\n",
    "    for pair in zip(data[:-1], data[1:]):\n",
    "        stats[pair] = stats.get(pair, 0) + 1\n",
    "    \n",
    "    pair_stats = [(f, p) for p, f in stats.items()]\n",
    "    pair_stats = sorted(pair_stats, reverse=True) \n",
    "\n",
    "    return pair_stats"
   ]
  },
  {
   "cell_type": "code",
   "execution_count": 43,
   "metadata": {},
   "outputs": [
    {
     "data": {
      "text/plain": [
       "[(27643, (101, 32)),\n",
       " (23837, (32, 116)),\n",
       " (22739, (116, 104)),\n",
       " (18203, (104, 101)),\n",
       " (16508, (116, 32)),\n",
       " (15364, (115, 32)),\n",
       " (14165, (100, 32)),\n",
       " (14098, (44, 32)),\n",
       " (13541, (32, 97)),\n",
       " (12730, (111, 117))]"
      ]
     },
     "execution_count": 43,
     "metadata": {},
     "output_type": "execute_result"
    }
   ],
   "source": [
    "pair_stats = get_stats(raw_bytes)\n",
    "pair_stats[:10]"
   ]
  },
  {
   "cell_type": "code",
   "execution_count": 44,
   "metadata": {},
   "outputs": [],
   "source": [
    "top_pair = pair_stats[0][1]"
   ]
  },
  {
   "cell_type": "code",
   "execution_count": 48,
   "metadata": {},
   "outputs": [],
   "source": [
    "def merge(data, pair, pair_idx):\n",
    "    \n",
    "    new_data = []\n",
    "    idx = 0\n",
    "    while True:\n",
    "        # check if pair is pair\n",
    "        if data[idx:idx+2] == list(pair):\n",
    "            new_data.append(pair_idx)\n",
    "            idx += 2\n",
    "        else:\n",
    "            new_data.append(data[idx])\n",
    "            idx += 1\n",
    "        \n",
    "        if idx >= len(data):\n",
    "            break\n",
    "\n",
    "    return new_data"
   ]
  },
  {
   "cell_type": "code",
   "execution_count": 50,
   "metadata": {},
   "outputs": [
    {
     "name": "stdout",
     "output_type": "stream",
     "text": [
      "1115394 1087751 27643\n"
     ]
    }
   ],
   "source": [
    "new = merge(raw_bytes, top_pair, 256)\n",
    "print(len(data_raw), len(new), len(data_raw)-len(new))"
   ]
  },
  {
   "cell_type": "code",
   "execution_count": 79,
   "metadata": {},
   "outputs": [],
   "source": [
    "def train_tokenizer(raw_idx, num_iter):\n",
    "    ids_map = []\n",
    "    compress_curve = []\n",
    "\n",
    "    target_idx = list(raw_idx) # copy\n",
    "    for iter in range(num_iter):\n",
    "        pair_stats = get_stats(target_idx)\n",
    "        top_pair_freg, top_pair = pair_stats[0]\n",
    "        if top_pair_freg <= 1:\n",
    "            break\n",
    "\n",
    "        target_idx = merge(target_idx, top_pair, len(ids_map)+256)\n",
    "        ids_map.append(top_pair)\n",
    "\n",
    "        compress_curve.append(len(raw_idx)/len(target_idx))\n",
    "\n",
    "    print(\"stop at iter\", iter+1, \"/\", num_iter)\n",
    "    print(\"number of ids_map\", len(ids_map))\n",
    "    print(\"initial data size:\", len(raw_idx))\n",
    "    print(\"final data size:\", len(target_idx))\n",
    "    print(\"size difference:\", len(raw_idx)-len(target_idx))\n",
    "    print(\"compress ratio:\", len(raw_idx)/len(target_idx))\n",
    "\n",
    "    return ids_map, target_idx, compress_curve"
   ]
  },
  {
   "cell_type": "code",
   "execution_count": 80,
   "metadata": {},
   "outputs": [
    {
     "name": "stdout",
     "output_type": "stream",
     "text": [
      "stop at iter 100 / 100\n",
      "number of ids_map 100\n",
      "initial data size: 1115394\n",
      "final data size: 688066\n",
      "size difference: 427328\n",
      "compress ratio: 1.6210567009560128\n"
     ]
    }
   ],
   "source": [
    "ids_map, target_idx, compress_curve = train_tokenizer(raw_bytes, 100)"
   ]
  },
  {
   "cell_type": "code",
   "execution_count": 82,
   "metadata": {},
   "outputs": [
    {
     "data": {
      "image/png": "[encoded data removed]",
      "text/plain": [
       "<Figure size 2500x500 with 1 Axes>"
      ]
     },
     "metadata": {},
     "output_type": "display_data"
    }
   ],
   "source": [
    "plt.figure(figsize=(25, 5))\n",
    "plt.bar(list(range(len(compress_curve))), compress_curve)\n",
    "plt.show()"
   ]
  },
  {
   "cell_type": "code",
   "execution_count": 105,
   "metadata": {},
   "outputs": [],
   "source": [
    "def encode_id(raw_idx, ids_map):\n",
    "    target_idx = list(raw_idx)\n",
    "\n",
    "    for idx, pair in enumerate(ids_map):\n",
    "        target_idx = merge(target_idx, pair, idx+256)\n",
    "\n",
    "    return target_idx\n",
    "\n",
    "def encode(input_str, ids_map):\n",
    "    raw_bytes = input_str.encode('utf-8')\n",
    "    raw_bytes = list(map(lambda x: int(x), raw_bytes))\n",
    "\n",
    "    return encode_id(raw_bytes, ids_map)\n",
    "\n",
    "# target_idx = encode_id(raw_bytes, ids_map)\n",
    "\n",
    "# print(\"initial data size:\", len(raw_bytes))\n",
    "# print(\"final data size:\", len(target_idx))\n",
    "# print(\"size difference:\", len(raw_bytes)-len(target_idx))\n",
    "# print(\"compress ratio:\", len(raw_bytes)/len(target_idx))"
   ]
  },
  {
   "cell_type": "code",
   "execution_count": 104,
   "metadata": {},
   "outputs": [],
   "source": [
    "def decode_id(raw_idx, ids_map):\n",
    "\n",
    "    target_idx = list(raw_idx)\n",
    "    for idx, pair in reversed(list(enumerate(ids_map))):\n",
    "        new_idx = []\n",
    "        for i in target_idx:\n",
    "            if i == idx+256:\n",
    "                new_idx.extend(pair)\n",
    "            else:\n",
    "                new_idx.append(i)\n",
    "        target_idx = new_idx\n",
    "    \n",
    "    return target_idx\n",
    "\n",
    "def decode(raw_idx, ids_map):\n",
    "    decoded_idx = decode_id(raw_idx, ids_map)\n",
    "    decoded_bytes = b\"\".join([bytes([b]) for b in decoded_idx])\n",
    "    return decoded_bytes.decode(\"utf-8\")\n",
    "\n",
    "# decoded_idx = decode_id(target_idx, ids_map)\n",
    "\n",
    "# print(\"initial data size:\", len(raw_bytes))\n",
    "# print(\"final data size:\", len(decoded_idx))\n",
    "# print(\"size difference:\", len(raw_bytes)-len(decoded_idx))\n",
    "# print(\"compress ratio:\", len(raw_bytes)/len(decoded_idx))"
   ]
  },
  {
   "cell_type": "code",
   "execution_count": 108,
   "metadata": {},
   "outputs": [
    {
     "data": {
      "text/plain": [
       "(18, 11)"
      ]
     },
     "execution_count": 108,
     "metadata": {},
     "output_type": "execute_result"
    }
   ],
   "source": [
    "len(\"Hello how are you?\".encode(\"utf-8\")), len(encode(\"Hello how are you?\", ids_map))"
   ]
  },
  {
   "cell_type": "code",
   "execution_count": 109,
   "metadata": {},
   "outputs": [
    {
     "data": {
      "text/plain": [
       "'Hellow how are you?'"
      ]
     },
     "execution_count": 109,
     "metadata": {},
     "output_type": "execute_result"
    }
   ],
   "source": [
    "decode(encode(\"Hellow how are you?\", ids_map), ids_map)"
   ]
  },
  {
   "cell_type": "code",
   "execution_count": 112,
   "metadata": {},
   "outputs": [],
   "source": [
    "import json"
   ]
  },
  {
   "cell_type": "code",
   "execution_count": 113,
   "metadata": {},
   "outputs": [],
   "source": [
    "with open(\"tokens.json\", \"w\") as f:\n",
    "    json.dump(ids_map, f)"
   ]
  },
  {
   "cell_type": "code",
   "execution_count": 114,
   "metadata": {},
   "outputs": [],
   "source": [
    "import json\n",
    "\n",
    "def get_stats(data):\n",
    "    stats = {}\n",
    "    for pair in zip(data[:-1], data[1:]):\n",
    "        stats[pair] = stats.get(pair, 0) + 1\n",
    "    \n",
    "    pair_stats = [(f, p) for p, f in stats.items()]\n",
    "    pair_stats = sorted(pair_stats, reverse=True) \n",
    "\n",
    "    return pair_stats\n",
    "\n",
    "def merge(data, pair, pair_idx):\n",
    "    \n",
    "    new_data = []\n",
    "    idx = 0\n",
    "    while True:\n",
    "        # check if pair is pair\n",
    "        if data[idx:idx+2] == list(pair):\n",
    "            new_data.append(pair_idx)\n",
    "            idx += 2\n",
    "        else:\n",
    "            new_data.append(data[idx])\n",
    "            idx += 1\n",
    "        \n",
    "        if idx >= len(data):\n",
    "            break\n",
    "\n",
    "    return new_data\n",
    "\n",
    "class Tokenizer:\n",
    "\n",
    "    def __init__(self, token_path):\n",
    "        self._token_path = token_path\n",
    "        self.load(self._token_path)\n",
    "\n",
    "    def _encode(self, raw_idx: list[int]) -> list[int]:\n",
    "        target_idx = list(raw_idx)\n",
    "\n",
    "        for idx, pair in enumerate(self.ids_map):\n",
    "            target_idx = merge(target_idx, pair, idx+256)\n",
    "\n",
    "        return target_idx\n",
    "\n",
    "    def encode(self, text: str) -> list[int]:\n",
    "        raw_bytes = text.encode('utf-8')\n",
    "        raw_bytes = list(map(lambda x: int(x), raw_bytes))\n",
    "        return self._encode(raw_bytes)\n",
    "\n",
    "    def _decode(self, raw_idx: list[int]) -> list[int]:\n",
    "        target_idx = list(raw_idx)\n",
    "        for idx, pair in reversed(list(enumerate(self.ids_map))):\n",
    "            new_idx = []\n",
    "            for i in target_idx:\n",
    "                if i == idx+256:\n",
    "                    new_idx.extend(pair)\n",
    "                else:\n",
    "                    new_idx.append(i)\n",
    "            target_idx = new_idx\n",
    "        \n",
    "        return target_idx\n",
    "\n",
    "    def decode(self, raw_idx: list[int]) -> str:\n",
    "        decoded_idx = self._decode(raw_idx)\n",
    "        decoded_bytes = b\"\".join([bytes([b]) for b in decoded_idx])\n",
    "        return decoded_bytes.decode(\"utf-8\")\n",
    "\n",
    "    def train(self, raw_idx, num_iter=100):\n",
    "        ids_map = []\n",
    "        compress_curve = []\n",
    "\n",
    "        target_idx = list(raw_idx) # copy\n",
    "        for iter in range(num_iter):\n",
    "            pair_stats = get_stats(target_idx)\n",
    "            top_pair_freg, top_pair = pair_stats[0]\n",
    "            if top_pair_freg <= 1:\n",
    "                break\n",
    "\n",
    "            target_idx = merge(target_idx, top_pair, len(ids_map)+256)\n",
    "            ids_map.append(top_pair)\n",
    "\n",
    "            compress_curve.append(len(raw_idx)/len(target_idx))\n",
    "\n",
    "        print(\"stop at iter\", iter+1, \"/\", num_iter)\n",
    "        print(\"number of ids_map\", len(ids_map))\n",
    "        print(\"initial data size:\", len(raw_idx))\n",
    "        print(\"final data size:\", len(target_idx))\n",
    "        print(\"size difference:\", len(raw_idx)-len(target_idx))\n",
    "        print(\"compress ratio:\", len(raw_idx)/len(target_idx))\n",
    "\n",
    "        # target_idx, compress_curve\n",
    "        self.ids_map = ids_map\n",
    "    \n",
    "    def save(self, target_path):\n",
    "\n",
    "        with open(target_path, \"w\") as f:\n",
    "            json.dump(self.ids_map, f)\n",
    "\n",
    "    def load(self, target_path):\n",
    "\n",
    "        with open(target_path, \"r\") as f:\n",
    "            self.ids_map = json.load(f)\n",
    "\n",
    "        # convert pair to tuple\n",
    "        self.ids_map = [(a, b) for a, b in self.ids_map]\n",
    "\n",
    "tokenizer = Tokenizer(\"tokens.json\")"
   ]
  },
  {
   "cell_type": "code",
   "execution_count": 117,
   "metadata": {},
   "outputs": [
    {
     "name": "stdout",
     "output_type": "stream",
     "text": [
      "40 21\n"
     ]
    },
    {
     "data": {
      "text/plain": [
       "'hello there, welcome to the world of llm'"
      ]
     },
     "execution_count": 117,
     "metadata": {},
     "output_type": "execute_result"
    }
   ],
   "source": [
    "t = \"hello there, welcome to the world of llm\"\n",
    "print(len(t), len(tokenizer.encode(t)))\n",
    "tokenizer.decode(tokenizer.encode(t))"
   ]
  }
 ],
 "metadata": {
  "kernelspec": {
   "display_name": "venv",
   "language": "python",
   "name": "python3"
  },
  "language_info": {
   "codemirror_mode": {
    "name": "ipython",
    "version": 3
   },
   "file_extension": ".py",
   "mimetype": "text/x-python",
   "name": "python",
   "nbconvert_exporter": "python",
   "pygments_lexer": "ipython3",
   "version": "3.11.4"
  }
 },
 "nbformat": 4,
 "nbformat_minor": 2
}
